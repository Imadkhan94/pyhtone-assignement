{
 "cells": [
  {
   "cell_type": "code",
   "execution_count": 2,
   "id": "9bb97e97",
   "metadata": {},
   "outputs": [
    {
     "name": "stdout",
     "output_type": "stream",
     "text": [
      "Enter radius value = 2\n",
      "Area of the circle\n",
      "12.56\n"
     ]
    }
   ],
   "source": [
    "radius=int(input(\"Enter radius value = \"));\n",
    "pi=3.14;\n",
    "Area_of_the_circle=pi*radius**2\n",
    "print(\"Area of the circle\");\n",
    "print(Area_of_the_circle);"
   ]
  },
  {
   "cell_type": "code",
   "execution_count": 3,
   "id": "84b7703b",
   "metadata": {},
   "outputs": [
    {
     "name": "stdout",
     "output_type": "stream",
     "text": [
      "enter marks :33\n",
      "enter marks :56\n",
      "enter marks :78\n",
      "total marks is : \n",
      "167\n",
      "percentage is : \n",
      "55.666666666666664\n",
      "Grade D\n"
     ]
    }
   ],
   "source": [
    "English=int(input(\"enter marks :\"));\n",
    "Islamiyat=int(input(\"enter marks :\"));\n",
    "Science=int(input(\"enter marks :\"));\n",
    "Totalmarks=English+Islamiyat+Science;\n",
    "#print(\"Total marks is:\");\n",
    "#print(Totalmarks);\n",
    "Percentage=(Totalmarks/300)*100;\n",
    "#print(\"percentage is: \");\n",
    "#print(Percentage);\n",
    "if English<0 or Islamiyat<0 or Science<0:\n",
    "    print(\"Please enter positive value\");\n",
    "else:\n",
    "    print(\"total marks is : \");\n",
    "    print(Totalmarks);\n",
    "    print(\"percentage is : \");\n",
    "    print(Percentage);\n",
    "    percent=Percentage;\n",
    "    if percent >= 90 and percent <= 100:\n",
    "        print('Grade A+');\n",
    "    elif percent >= 80 and percent <= 90:\n",
    "        print('Grade A');\n",
    "    elif percent >= 70 and percent <= 80:\n",
    "        print('Grade B');\n",
    "    elif percent >= 60 and percent <= 70:\n",
    "        print('Grade C');\n",
    "    elif percent >= 50 and percent <= 60:\n",
    "        print('Grade D');\n",
    "    elif percent >= 40 and percent <= 50:\n",
    "        print('Grade E');\n",
    "    elif percent >= 0 and percent <= 40:\n",
    "        print('Need hard work to better next time');"
   ]
  },
  {
   "cell_type": "code",
   "execution_count": 4,
   "id": "36d0c836",
   "metadata": {},
   "outputs": [
    {
     "name": "stdout",
     "output_type": "stream",
     "text": [
      "Twinkle,twinkle,little star,\n",
      "        How I wonder what you are!\n",
      "                Up above the world so high,\n",
      "                Like a diamond in the sky.\n",
      "Twinkle,twinkle,little star,\n",
      "        How I wonder what ypou are\n"
     ]
    }
   ],
   "source": [
    "print(\"Twinkle,twinkle,little star,\")\n",
    "print(\"        How I wonder what you are!\")\n",
    "print(\"                Up above the world so high,\")\n",
    "print(\"                Like a diamond in the sky.\")\n",
    "print(\"Twinkle,twinkle,little star,\")\n",
    "print(\"        How I wonder what ypou are\")"
   ]
  },
  {
   "cell_type": "code",
   "execution_count": 5,
   "id": "e14f8fcc",
   "metadata": {},
   "outputs": [
    {
     "name": "stdout",
     "output_type": "stream",
     "text": [
      "3.8.8\n"
     ]
    }
   ],
   "source": [
    "from platform import python_version\n",
    "print(python_version())"
   ]
  },
  {
   "cell_type": "code",
   "execution_count": 6,
   "id": "83708249",
   "metadata": {},
   "outputs": [
    {
     "name": "stdout",
     "output_type": "stream",
     "text": [
      "Enter number33\n",
      "Enter number57\n",
      "Total is : \n",
      "90\n"
     ]
    }
   ],
   "source": [
    "a=int(input(\"Enter number\"))\n",
    "b=int(input(\"Enter number\"))\n",
    "c=a+b;\n",
    "print(\"Total is : \")\n",
    "print(c)"
   ]
  },
  {
   "cell_type": "code",
   "execution_count": 12,
   "id": "d04f9151",
   "metadata": {},
   "outputs": [
    {
     "name": "stdout",
     "output_type": "stream",
     "text": [
      "Enter the number = 11\n",
      "This is number is odd\n"
     ]
    }
   ],
   "source": [
    "x=int(input(\"Enter the number = \"));\n",
    "if x%2==0:\n",
    "    print(\"This is even number\");\n",
    "else:\n",
    "    print(\"This is number is odd\");"
   ]
  },
  {
   "cell_type": "code",
   "execution_count": 19,
   "id": "41261341",
   "metadata": {},
   "outputs": [
    {
     "name": "stdout",
     "output_type": "stream",
     "text": [
      "Sun Oct 24 15:03:47 2021\n"
     ]
    }
   ],
   "source": [
    " import time\n",
    "time.ctime();\n",
    "print(time.ctime())"
   ]
  },
  {
   "cell_type": "code",
   "execution_count": null,
   "id": "8c24d419",
   "metadata": {},
   "outputs": [],
   "source": []
  }
 ],
 "metadata": {
  "kernelspec": {
   "display_name": "Python 3",
   "language": "python",
   "name": "python3"
  },
  "language_info": {
   "codemirror_mode": {
    "name": "ipython",
    "version": 3
   },
   "file_extension": ".py",
   "mimetype": "text/x-python",
   "name": "python",
   "nbconvert_exporter": "python",
   "pygments_lexer": "ipython3",
   "version": "3.8.8"
  }
 },
 "nbformat": 4,
 "nbformat_minor": 5
}
