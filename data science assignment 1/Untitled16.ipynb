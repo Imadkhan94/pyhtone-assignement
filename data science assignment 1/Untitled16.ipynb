{
 "cells": [
  {
   "cell_type": "markdown",
   "id": "6d516e3e",
   "metadata": {},
   "source": [
    "# data science assignment # 1 "
   ]
  },
  {
   "cell_type": "code",
   "execution_count": 1,
   "id": "64e7ae06",
   "metadata": {},
   "outputs": [
    {
     "name": "stdout",
     "output_type": "stream",
     "text": [
      "Enter radius value = 3\n",
      "Area of the circle\n",
      "28.26\n"
     ]
    }
   ],
   "source": [
    "radius=int(input(\"Enter radius value = \"));\n",
    "pi=3.14;\n",
    "Area_of_the_circle=pi*radius**2\n",
    "print(\"Area of the circle\");\n",
    "print(Area_of_the_circle);"
   ]
  },
  {
   "cell_type": "code",
   "execution_count": 2,
   "id": "267c63e3",
   "metadata": {},
   "outputs": [
    {
     "name": "stdout",
     "output_type": "stream",
     "text": [
      "Twinkle,twinkle,little star,\n",
      "        How I wonder what you are!\n",
      "                Up above the world so high,\n",
      "                Like a diamond in the sky.\n",
      "Twinkle,twinkle,little star,\n",
      "        How I wonder what ypou are\n"
     ]
    }
   ],
   "source": [
    "print(\"Twinkle,twinkle,little star,\")\n",
    "print(\"        How I wonder what you are!\")\n",
    "print(\"                Up above the world so high,\")\n",
    "print(\"                Like a diamond in the sky.\")\n",
    "print(\"Twinkle,twinkle,little star,\")\n",
    "print(\"        How I wonder what ypou are\")"
   ]
  },
  {
   "cell_type": "code",
   "execution_count": 3,
   "id": "9a554886",
   "metadata": {},
   "outputs": [
    {
     "name": "stdout",
     "output_type": "stream",
     "text": [
      "3.8.8\n"
     ]
    }
   ],
   "source": [
    "from platform import python_version\n",
    "print(python_version())"
   ]
  },
  {
   "cell_type": "code",
   "execution_count": 5,
   "id": "b9769e48",
   "metadata": {},
   "outputs": [
    {
     "name": "stdout",
     "output_type": "stream",
     "text": [
      "Enter number12\n",
      "Enter number20\n",
      "Total is : 32\n"
     ]
    }
   ],
   "source": [
    "a=int(input(\"Enter number\"))\n",
    "b=int(input(\"Enter number\"))\n",
    "c=a+b;\n",
    "print(f\"Total is : {c}\")\n"
   ]
  },
  {
   "cell_type": "code",
   "execution_count": 6,
   "id": "75220d94",
   "metadata": {},
   "outputs": [
    {
     "name": "stdout",
     "output_type": "stream",
     "text": [
      "Fri Dec 31 21:24:10 2021\n"
     ]
    }
   ],
   "source": [
    " import time\n",
    "time.ctime();\n",
    "print(time.ctime())"
   ]
  },
  {
   "cell_type": "code",
   "execution_count": null,
   "id": "86865bb8",
   "metadata": {},
   "outputs": [],
   "source": []
  }
 ],
 "metadata": {
  "kernelspec": {
   "display_name": "Python 3",
   "language": "python",
   "name": "python3"
  },
  "language_info": {
   "codemirror_mode": {
    "name": "ipython",
    "version": 3
   },
   "file_extension": ".py",
   "mimetype": "text/x-python",
   "name": "python",
   "nbconvert_exporter": "python",
   "pygments_lexer": "ipython3",
   "version": "3.8.8"
  }
 },
 "nbformat": 4,
 "nbformat_minor": 5
}
